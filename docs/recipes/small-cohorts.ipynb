{
 "cells": [
  {
   "cell_type": "markdown",
   "id": "e7447c71",
   "metadata": {},
   "source": [
    "## Introduction"
   ]
  },
  {
   "cell_type": "markdown",
   "id": "3fee3f65",
   "metadata": {},
   "source": [
    "The goal of this small notebook is to show you how to:\n",
    "\n",
    "- Work on a big cohort by staying distributed\n",
    "- Do some phenotyping to select a small subcohort\n",
    "- Save this subcohort locally to work on it later\n",
    "\n",
    "As a dummy example, we will select patients that underwent a cardiac transplantation. The selection will be performed by using both ICD-10 and by CCAM terminologies."
   ]
  },
  {
   "cell_type": "markdown",
   "id": "ad64f9b8",
   "metadata": {},
   "source": [
    "## Data Loading"
   ]
  },
  {
   "cell_type": "code",
   "execution_count": 1,
   "id": "c8167627-9d3f-4fbe-b52c-703058c10ea6",
   "metadata": {},
   "outputs": [
    {
     "name": "stderr",
     "output_type": "stream",
     "text": [
      "2023-02-02 11:04:54.866 | WARNING  | eds_scikit:<module>:31 - \n",
      "    To improve performances when using Spark and Koalas, please call `eds_scikit.improve_performances()`\n",
      "    This function optimally configures Spark. Use it as:\n",
      "    `spark, sc, sql = eds_scikit.improve_performances()`\n",
      "    The functions respectively returns a SparkSession, a SparkContext and an sql method\n",
      "    \n"
     ]
    }
   ],
   "source": [
    "import eds_scikit\n",
    "\n",
    "spark, sc, sql = eds_scikit.improve_performances()"
   ]
  },
  {
   "cell_type": "code",
   "execution_count": 2,
   "id": "8e9fb30e-2165-42ca-9bb6-9c92f0062f4a",
   "metadata": {},
   "outputs": [],
   "source": [
    "DBNAME=\"YOUR_DATABASE_NAME\""
   ]
  },
  {
   "cell_type": "code",
   "execution_count": 4,
   "id": "27086763-abf5-43ec-9d22-7fea742ef4e6",
   "metadata": {},
   "outputs": [
    {
     "name": "stderr",
     "output_type": "stream",
     "text": [
      "/export/home/cse210038/Thomas/scikitenv/lib/python3.7/site-packages/pyarrow/util.py:39: FutureWarning: pyarrow.open_stream is deprecated as of 0.17.0, please use pyarrow.ipc.open_stream instead\n",
      "  warnings.warn(msg, FutureWarning)\n",
      "                                                                                \r"
     ]
    }
   ],
   "source": [
    "from eds_scikit.io.hive import HiveData\n",
    "\n",
    "# Data from Hive\n",
    "data = HiveData(DBNAME)"
   ]
  },
  {
   "cell_type": "markdown",
   "id": "bec9c83b",
   "metadata": {},
   "source": [
    "## Phenotyping"
   ]
  },
  {
   "cell_type": "code",
   "execution_count": 5,
   "id": "71a75e1c-5abc-4471-aa92-41185a95b261",
   "metadata": {},
   "outputs": [],
   "source": [
    "from eds_scikit.event.ccam import procedures_from_ccam\n",
    "from eds_scikit.event.icd10 import conditions_from_icd10"
   ]
  },
  {
   "cell_type": "code",
   "execution_count": 6,
   "id": "11794b94-7736-4468-a262-7ad2d36a7232",
   "metadata": {},
   "outputs": [],
   "source": [
    "CCAM = dict(\n",
    "    HEART_TRANSPLANT = dict(\n",
    "        prefix = \"DZEA00\", # \n",
    "    )\n",
    ")\n",
    "\n",
    "ICD10 = dict(\n",
    "    HEART_TRANSPLANT = dict(\n",
    "        exact = \"Z941\", # \n",
    "    )\n",
    ")\n",
    "\n",
    "procedure_occurrence = procedures_from_ccam(\n",
    "    procedure_occurrence=data.procedure_occurrence,\n",
    "    visit_occurrence=data.visit_occurrence,\n",
    "    codes=CCAM,\n",
    "    date_from_visit=True,\n",
    ")\n",
    "\n",
    "condition_occurrence = conditions_from_icd10(\n",
    "    condition_occurrence=data.condition_occurrence,\n",
    "    visit_occurrence=data.visit_occurrence,\n",
    "    codes=ICD10,\n",
    "    date_from_visit=True,\n",
    "    additional_filtering=dict(\n",
    "        condition_status_source_value={\"DP\", \"DAS\"}, # \n",
    "    )\n",
    ")"
   ]
  },
  {
   "cell_type": "code",
   "execution_count": 7,
   "id": "4e0c42dc-6333-4b02-b159-33d5341db558",
   "metadata": {},
   "outputs": [
    {
     "name": "stderr",
     "output_type": "stream",
     "text": [
      "[Stage 2:>                                                        (0 + 2) / 200]/export/home/cse210038/Thomas/scikitenv/lib/python3.7/site-packages/pyarrow/util.py:39: FutureWarning: pyarrow.open_stream is deprecated as of 0.17.0, please use pyarrow.ipc.open_stream instead\n",
      "  warnings.warn(msg, FutureWarning)\n",
      "/export/home/cse210038/Thomas/scikitenv/lib/python3.7/site-packages/pyarrow/util.py:39: FutureWarning: pyarrow.open_stream is deprecated as of 0.17.0, please use pyarrow.ipc.open_stream instead\n",
      "  warnings.warn(msg, FutureWarning)\n",
      "                                                                                \r"
     ]
    },
    {
     "data": {
      "text/plain": [
       "concept           value  \n",
       "HEART_TRANSPLANT  DZEA002    39\n",
       "dtype: int64"
      ]
     },
     "execution_count": 7,
     "metadata": {},
     "output_type": "execute_result"
    }
   ],
   "source": [
    "procedure_occurrence.groupby([\"concept\",\"value\"]).size()"
   ]
  },
  {
   "cell_type": "code",
   "execution_count": 8,
   "id": "897f1753-6f6d-4633-a8f7-135d9ccb01ad",
   "metadata": {},
   "outputs": [
    {
     "name": "stderr",
     "output_type": "stream",
     "text": [
      "                                                                                \r"
     ]
    },
    {
     "data": {
      "text/plain": [
       "concept           value\n",
       "HEART_TRANSPLANT  Z941     602\n",
       "dtype: int64"
      ]
     },
     "execution_count": 8,
     "metadata": {},
     "output_type": "execute_result"
    }
   ],
   "source": [
    "condition_occurrence.groupby([\"concept\",\"value\"]).size()"
   ]
  },
  {
   "cell_type": "markdown",
   "id": "40185b4b",
   "metadata": {},
   "source": [
    "## Saving to disk"
   ]
  },
  {
   "cell_type": "code",
   "execution_count": 9,
   "id": "f388afd0-4373-4170-af2e-203adb84e9a2",
   "metadata": {},
   "outputs": [
    {
     "name": "stderr",
     "output_type": "stream",
     "text": [
      "                                                                                \r"
     ]
    }
   ],
   "source": [
    "cohort = set(\n",
    "    procedure_occurrence.person_id.to_list() + condition_occurrence.person_id.to_list()\n",
    ")"
   ]
  },
  {
   "cell_type": "markdown",
   "id": "3cd8e711-cfa4-4228-ba9f-dc9a579fe74a",
   "metadata": {},
   "source": [
    "We can check that our cohort is indeed small and can be stored locally without any concerns:"
   ]
  },
  {
   "cell_type": "code",
   "execution_count": 10,
   "id": "b394ce04-fd97-4d48-8700-1321de4f0d17",
   "metadata": {},
   "outputs": [
    {
     "data": {
      "text/plain": [
       "53"
      ]
     },
     "execution_count": 10,
     "metadata": {},
     "output_type": "execute_result"
    }
   ],
   "source": [
    "len(cohort)"
   ]
  },
  {
   "cell_type": "markdown",
   "id": "92d6e76a-7938-4570-9d67-749aecf54d04",
   "metadata": {},
   "source": [
    "And we can also compute a very crude prevalence of heart transplant in our database:"
   ]
  },
  {
   "cell_type": "code",
   "execution_count": 11,
   "id": "d5124d4a-8f6d-4433-a93f-99cc6fa660cc",
   "metadata": {},
   "outputs": [
    {
     "name": "stderr",
     "output_type": "stream",
     "text": [
      "                                                                                \r"
     ]
    },
    {
     "data": {
      "text/plain": [
       "'0.06849 %'"
      ]
     },
     "execution_count": 11,
     "metadata": {},
     "output_type": "execute_result"
    }
   ],
   "source": [
    "f\"{100 * len(cohort)/len(set(data.procedure_occurrence.person_id.to_list() + data.condition_occurrence.person_id.to_list())):.5f} %\""
   ]
  },
  {
   "cell_type": "markdown",
   "id": "f866ea86",
   "metadata": {},
   "source": [
    "Finally let us save the tables we need locally.  \n",
    "Under the hood, eds-scikit will only keep data corresponding to the provided cohort."
   ]
  },
  {
   "cell_type": "code",
   "execution_count": 14,
   "id": "e279c8d8-f489-479d-aa7c-886863718491",
   "metadata": {},
   "outputs": [
    {
     "name": "stderr",
     "output_type": "stream",
     "text": [
      "                                                                                \r"
     ]
    },
    {
     "name": "stdout",
     "output_type": "stream",
     "text": [
      "Number of unique patients: 53\n",
      "writing /export/home/cse210038/Thomas/eds-scikit/docs/recipes/heart_transplant_cohort/person.parquet\n"
     ]
    },
    {
     "name": "stderr",
     "output_type": "stream",
     "text": [
      "                                                                                \r"
     ]
    },
    {
     "name": "stdout",
     "output_type": "stream",
     "text": [
      "writing /export/home/cse210038/Thomas/eds-scikit/docs/recipes/heart_transplant_cohort/visit_detail.parquet\n"
     ]
    },
    {
     "name": "stderr",
     "output_type": "stream",
     "text": [
      "                                                                                \r"
     ]
    },
    {
     "name": "stdout",
     "output_type": "stream",
     "text": [
      "writing /export/home/cse210038/Thomas/eds-scikit/docs/recipes/heart_transplant_cohort/visit_occurrence.parquet\n"
     ]
    },
    {
     "name": "stderr",
     "output_type": "stream",
     "text": [
      "                                                                                \r"
     ]
    },
    {
     "name": "stdout",
     "output_type": "stream",
     "text": [
      "writing /export/home/cse210038/Thomas/eds-scikit/docs/recipes/heart_transplant_cohort/procedure_occurrence.parquet\n"
     ]
    },
    {
     "name": "stderr",
     "output_type": "stream",
     "text": [
      "                                                                                \r"
     ]
    },
    {
     "name": "stdout",
     "output_type": "stream",
     "text": [
      "writing /export/home/cse210038/Thomas/eds-scikit/docs/recipes/heart_transplant_cohort/condition_occurrence.parquet\n"
     ]
    },
    {
     "name": "stderr",
     "output_type": "stream",
     "text": [
      "                                                                                \r"
     ]
    }
   ],
   "source": [
    "import os\n",
    "\n",
    "folder = os.path.abspath(\"./heart_transplant_cohort\")\n",
    "\n",
    "tables_to_save = [\n",
    "    \"person\",\n",
    "    \"visit_detail\",\n",
    "    \"visit_occurrence\",\n",
    "    \"procedure_occurrence\",\n",
    "    \"condition_occurrence\",\n",
    "]\n",
    "\n",
    "data.persist_tables_to_folder(\n",
    "    folder,\n",
    "    tables=tables_to_save,\n",
    "    person_ids=cohort,\n",
    ")"
   ]
  },
  {
   "cell_type": "markdown",
   "id": "96744396",
   "metadata": {},
   "source": [
    "## Using the saved cohort\n",
    "\n",
    "Now that our cohort is saved locally, it can be accessed directly by using the [`PandasData`][eds_scikit.io.files.PandasData] class.  \n",
    "Its akin to the [`HiveData`][eds_scikit.io.hive.HiveData] class, except that the loaded tables will be stored directly as Pandas DataFrames, allowing for faster and easier analysis"
   ]
  },
  {
   "cell_type": "code",
   "execution_count": 15,
   "id": "4938e306-4178-46f4-a8f6-3da42e3bbfb6",
   "metadata": {},
   "outputs": [],
   "source": [
    "from eds_scikit.io.files import PandasData\n",
    "\n",
    "data = PandasData(folder)"
   ]
  },
  {
   "cell_type": "markdown",
   "id": "1751157e-3681-4cb6-bf97-51e370e88fde",
   "metadata": {},
   "source": [
    "As a sanity check, let us display the number of patient in our saved cohort (we are expecting 30)"
   ]
  },
  {
   "cell_type": "code",
   "execution_count": 16,
   "id": "900b09bc-40c1-4222-8931-a63b13d78433",
   "metadata": {},
   "outputs": [
    {
     "data": {
      "text/plain": [
       "53"
      ]
     },
     "execution_count": 16,
     "metadata": {},
     "output_type": "execute_result"
    }
   ],
   "source": [
    "cohort = data.person.person_id.to_list()\n",
    "len(cohort)"
   ]
  },
  {
   "cell_type": "markdown",
   "id": "0eee27ed-f818-429e-8dd7-84c4ff9dec6c",
   "metadata": {},
   "source": [
    "And the crude prevalence that should now be 100% !"
   ]
  },
  {
   "cell_type": "code",
   "execution_count": 17,
   "id": "f8f3f466-0b59-4ae1-900a-f7a93972daa6",
   "metadata": {},
   "outputs": [
    {
     "data": {
      "text/plain": [
       "'100.00000 %'"
      ]
     },
     "execution_count": 17,
     "metadata": {},
     "output_type": "execute_result"
    }
   ],
   "source": [
    "f\"{100 * len(cohort)/len(set(data.procedure_occurrence.person_id.to_list() + data.condition_occurrence.person_id.to_list())):.5f} %\""
   ]
  }
 ],
 "metadata": {
  "kernelspec": {
   "display_name": "scikit",
   "language": "python",
   "name": "scikit"
  },
  "language_info": {
   "codemirror_mode": {
    "name": "ipython",
    "version": 3
   },
   "file_extension": ".py",
   "mimetype": "text/x-python",
   "name": "python",
   "nbconvert_exporter": "python",
   "pygments_lexer": "ipython3",
   "version": "3.7.8"
  }
 },
 "nbformat": 4,
 "nbformat_minor": 5
}
